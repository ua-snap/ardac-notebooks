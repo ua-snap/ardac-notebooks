{
 "cells": [
  {
   "cell_type": "code",
   "execution_count": 2,
   "id": "df2f9675",
   "metadata": {},
   "outputs": [],
   "source": [
    "import pandas as pd\n",
    "import ipywidgets as widgets\n",
    "from IPython.display import display"
   ]
  },
  {
   "cell_type": "code",
   "execution_count": 3,
   "id": "b9541864",
   "metadata": {},
   "outputs": [],
   "source": [
    "# Function to compute design_index\n",
    "def compute_and_display_design_index(start_year, end_year, n_coldest_years):\n",
    "    \n",
    "    df_slice = df[(df[\"year\"] >= start_year) & (df[\"year\"] < end_year)]\n",
    "    design_index = round(df_slice.sort_values(\"value\", ascending=False).iloc[0:n_coldest_years][\"value\"].mean())\n",
    "    return design_index\n",
    "\n",
    "# group by mean\n"
   ]
  },
  {
   "cell_type": "code",
   "execution_count": 10,
   "id": "a068e0d3",
   "metadata": {},
   "outputs": [
    {
     "data": {
      "application/vnd.jupyter.widget-view+json": {
       "model_id": "07ed9515133c4d30ac868fecb21b0cba",
       "version_major": 2,
       "version_minor": 0
      },
      "text/plain": [
       "Label(value='Interactive Design Freezing Index Module')"
      ]
     },
     "metadata": {},
     "output_type": "display_data"
    },
    {
     "data": {
      "application/vnd.jupyter.widget-view+json": {
       "model_id": "4f4b4a53c59e471e8a492ce181b8197a",
       "version_major": 2,
       "version_minor": 0
      },
      "text/plain": [
       "IntSlider(value=2030, description='Start Year:', max=2099, min=1980)"
      ]
     },
     "metadata": {},
     "output_type": "display_data"
    },
    {
     "data": {
      "application/vnd.jupyter.widget-view+json": {
       "model_id": "9de94e4ffd394be68699355a47641eb2",
       "version_major": 2,
       "version_minor": 0
      },
      "text/plain": [
       "IntSlider(value=2060, description='End Year:', max=2100, min=1981)"
      ]
     },
     "metadata": {},
     "output_type": "display_data"
    },
    {
     "data": {
      "application/vnd.jupyter.widget-view+json": {
       "model_id": "5427793b6c78497ca948e238d5d2dbca",
       "version_major": 2,
       "version_minor": 0
      },
      "text/plain": [
       "IntSlider(value=3, description='Number of Coldest Years:', max=10, min=1)"
      ]
     },
     "metadata": {},
     "output_type": "display_data"
    },
    {
     "data": {
      "application/vnd.jupyter.widget-view+json": {
       "model_id": "3b70a105143746528a98d0863dbe27fa",
       "version_major": 2,
       "version_minor": 0
      },
      "text/plain": [
       "Output()"
      ]
     },
     "metadata": {},
     "output_type": "display_data"
    }
   ],
   "source": [
    "import pandas as pd\n",
    "import ipywidgets as widgets\n",
    "from IPython.display import display\n",
    "\n",
    "# Load the CSV data\n",
    "df = pd.read_csv(\"https://earthmaps.io/mmm/degree_days/freezing_index/all/65.1/-146.6?format=csv\", header=1)\n",
    "\n",
    "# Create interactive widgets for input\n",
    "start_year_slider = widgets.IntSlider(value=2030, min=1980, max=2099, step=1, description=\"Start Year:\")\n",
    "end_year_slider = widgets.IntSlider(value=2060, min=1981, max=2100, step=1, description=\"End Year:\")\n",
    "n_coldest_years_slider = widgets.IntSlider(value=3, min=1, max=10, step=1, description=\"Number of Coldest Years:\")\n",
    "\n",
    "# Create an output widget for displaying the result\n",
    "output = widgets.Output()\n",
    "\n",
    "# Define a function to handle widget changes\n",
    "def handle_slider_change(change):\n",
    "    with output:\n",
    "        output.clear_output()\n",
    "        \n",
    "        #if start_year_slider.value >= end_year_slider.value:\n",
    "        if end_year_slider.value - start_year_slider.value < n_coldest_years_slider.value:\n",
    "\n",
    "        # Ensure start_year is less than end_year\n",
    "            start_year_slider.value = end_year_slider.value - n_coldest_years_slider.value\n",
    "        result = compute_and_display_design_index(\n",
    "            start_year_slider.value, end_year_slider.value, n_coldest_years_slider.value)\n",
    "        print(f\"Design Index: {result} °F-days\")\n",
    "\n",
    "# Attach the change handler to the sliders\n",
    "start_year_slider.observe(handle_slider_change, names=\"value\")\n",
    "end_year_slider.observe(handle_slider_change, names=\"value\")\n",
    "n_coldest_years_slider.observe(handle_slider_change, names=\"value\")\n",
    "\n",
    "# Display the widgets with the title and initial result\n",
    "display(title_label, start_year_slider, end_year_slider, n_coldest_years_slider, output)\n",
    "initial_result = compute_and_display_design_index(start_year_slider.value, end_year_slider.value, n_coldest_years_slider.value)\n"
   ]
  },
  {
   "cell_type": "code",
   "execution_count": null,
   "id": "7ba40ae8",
   "metadata": {},
   "outputs": [],
   "source": [
    "if end_year_slider.value - start_year_slider.value < n_coldest_years_slider.value:\n"
   ]
  },
  {
   "cell_type": "code",
   "execution_count": null,
   "id": "867c4ce6",
   "metadata": {},
   "outputs": [],
   "source": [
    "# two outputs: per model\n",
    "# # mean design index between the two design indexes\n"
   ]
  },
  {
   "cell_type": "code",
   "execution_count": null,
   "id": "dd8ed278",
   "metadata": {},
   "outputs": [],
   "source": [
    "df"
   ]
  },
  {
   "cell_type": "code",
   "execution_count": 4,
   "id": "00a088ca",
   "metadata": {
    "scrolled": true
   },
   "outputs": [
    {
     "name": "stdout",
     "output_type": "stream",
     "text": [
      "         model  year variable  value\n",
      "0  ERA-Interim  1979       dd   4802\n",
      "1  ERA-Interim  1980       dd   4605\n",
      "2  ERA-Interim  1981       dd   3430\n",
      "3  ERA-Interim  1982       dd   5504\n",
      "4  ERA-Interim  1983       dd   4891\n",
      "          model  year variable  value\n",
      "222  NCAR-CCSM4  2096       dd   2918\n",
      "223  NCAR-CCSM4  2097       dd   2067\n",
      "224  NCAR-CCSM4  2098       dd   2459\n",
      "225  NCAR-CCSM4  2099       dd   2224\n",
      "226  NCAR-CCSM4  2100       dd   2022\n"
     ]
    }
   ],
   "source": [
    "import pandas as pd\n",
    "df = pd.read_csv(\"https://earthmaps.io/mmm/degree_days/freezing_index/all/65.1/-146.6?format=csv\", header=1)\n",
    "print(df.head())\n",
    "print(df.tail())"
   ]
  },
  {
   "cell_type": "code",
   "execution_count": null,
   "id": "462cf368",
   "metadata": {},
   "outputs": [],
   "source": []
  }
 ],
 "metadata": {
  "kernelspec": {
   "display_name": "Python (SNAP Environment)",
   "language": "python",
   "name": "snap"
  },
  "language_info": {
   "codemirror_mode": {
    "name": "ipython",
    "version": 3
   },
   "file_extension": ".py",
   "mimetype": "text/x-python",
   "name": "python",
   "nbconvert_exporter": "python",
   "pygments_lexer": "ipython3",
   "version": "3.9.15"
  }
 },
 "nbformat": 4,
 "nbformat_minor": 5
}
