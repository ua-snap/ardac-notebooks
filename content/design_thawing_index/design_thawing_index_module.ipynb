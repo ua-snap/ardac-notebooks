{
 "cells": [
  {
   "cell_type": "code",
   "execution_count": null,
   "id": "36c1eefb",
   "metadata": {},
   "outputs": [],
   "source": [
    "import os\n",
    "base_url = os.environ[\"API_BASE\"]\n",
    "print(base_url)"
   ]
  },
  {
   "cell_type": "code",
   "execution_count": null,
   "id": "f5c174aa-6425-425c-84cf-3da9ca3e3ec1",
   "metadata": {},
   "outputs": [],
   "source": [
    "latitude = 65.1\n",
    "longitude = -146.6"
   ]
  },
  {
   "cell_type": "code",
   "execution_count": null,
   "id": "75462b1f-586e-4260-b836-2a972b76f0a6",
   "metadata": {},
   "outputs": [],
   "source": [
    "import micropip\n",
    "await micropip.install('pyodide-http')\n",
    "import pyodide_http\n",
    "pyodide_http.patch_all()"
   ]
  },
  {
   "cell_type": "code",
   "execution_count": null,
   "id": "c29b7e69-b0c0-4937-b362-70040dc48f90",
   "metadata": {},
   "outputs": [],
   "source": [
    "import pandas as pd\n",
    "df = pd.read_csv(f\"{base_url}degree_days/thawing_index/{latitude}/{longitude}?format=csv\", header=3)\n",
    "df"
   ]
  },
  {
   "cell_type": "code",
   "execution_count": null,
   "id": "f786917c-b0f9-4437-adee-595643fc4037",
   "metadata": {},
   "outputs": [],
   "source": [
    "await micropip.install(\"ipywidgets\")\n",
    "import ipywidgets as widgets\n",
    "from IPython.display import display"
   ]
  },
  {
   "cell_type": "code",
   "execution_count": null,
   "id": "b9541864",
   "metadata": {},
   "outputs": [],
   "source": [
    "# function to compute design thawing index\n",
    "def compute_and_display_design_index(start_year, end_year, n_warmest_years):\n",
    "    \n",
    "    df_slice = df[(df[\"year\"] >= start_year) & (df[\"year\"] < end_year)]\n",
    "    design_index = round(df_slice.sort_values(\"dd\", ascending=False).iloc[0:n_warmest_years][\"dd\"].mean())\n",
    "    return design_index"
   ]
  },
  {
   "cell_type": "code",
   "execution_count": null,
   "id": "a068e0d3",
   "metadata": {},
   "outputs": [],
   "source": [
    "# create interactive widgets for input\n",
    "start_year_slider = widgets.IntSlider(\n",
    "    value=2030, min=1980, max=2099, step=1, description=\"Start Year:\"\n",
    ")\n",
    "end_year_slider = widgets.IntSlider(\n",
    "    value=2060, min=1981, max=2100, step=1, description=\"End Year:\"\n",
    ")\n",
    "n_coldest_years_slider = widgets.IntSlider(\n",
    "    value=3, min=1, max=10, step=1, description=\"Number of Warmest Years:\",\n",
    "    style={\"description_width\": \"initial\"}\n",
    ")\n",
    "\n",
    "# create an output widget for dynamic displaying of result\n",
    "output = widgets.Output()\n",
    "\n",
    "# function to handle widget changes\n",
    "def handle_slider_change(change):\n",
    "    with output:\n",
    "        output.clear_output()\n",
    "\n",
    "        if (\n",
    "            end_year_slider.value - start_year_slider.value\n",
    "            < n_coldest_years_slider.value\n",
    "        ):\n",
    "            start_year_slider.value = (\n",
    "                end_year_slider.value - n_coldest_years_slider.value\n",
    "            )\n",
    "            output.clear_output()\n",
    "        result = compute_and_display_design_index(\n",
    "            start_year_slider.value, end_year_slider.value, n_coldest_years_slider.value\n",
    "        )\n",
    "        print(f\"Design Thawing Index: {result} °F•days\")\n",
    "\n",
    "# attach the change handler to the sliders\n",
    "start_year_slider.observe(handle_slider_change, names=\"value\")\n",
    "end_year_slider.observe(handle_slider_change, names=\"value\")\n",
    "n_coldest_years_slider.observe(handle_slider_change, names=\"value\")\n",
    "\n",
    "handle_slider_change(None)\n",
    "\n",
    "# display the widgets with the title and initial result\n",
    "display(start_year_slider, end_year_slider, n_coldest_years_slider, output)\n",
    "initial_result = compute_and_display_design_index(\n",
    "    start_year_slider.value, end_year_slider.value, n_coldest_years_slider.value\n",
    ")\n"
   ]
  },
  {
   "cell_type": "code",
   "execution_count": null,
   "id": "be690f47",
   "metadata": {},
   "outputs": [],
   "source": []
  }
 ],
 "metadata": {
  "kernelspec": {
   "display_name": "Python 3 (ipykernel)",
   "language": "python",
   "name": "python3"
  },
  "language_info": {
   "codemirror_mode": {
    "name": "ipython",
    "version": 3
   },
   "file_extension": ".py",
   "mimetype": "text/x-python",
   "name": "python",
   "nbconvert_exporter": "python",
   "pygments_lexer": "ipython3",
   "version": "3.12.0"
  }
 },
 "nbformat": 4,
 "nbformat_minor": 5
}
