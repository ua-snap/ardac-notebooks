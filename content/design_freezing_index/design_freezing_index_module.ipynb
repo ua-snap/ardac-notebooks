{
 "cells": [
  {
   "cell_type": "markdown",
   "id": "5775060d-6c7a-4e61-87ff-b7565c20931e",
   "metadata": {},
   "source": [
    "## Design Freezing Index\n",
    "This notebook provides a simple computation of the design freezing index by averaging the three coldest (greatest freezing index values) years from a given range of years.\n",
    "Users can modify the number of coldest years used to compute the average, and the range of years for which the design freezing index value will be computed.\n",
    "\n",
    "### Introduction to Jupyter Notebooks\n",
    "\n",
    "[Jupyter Notebooks](https://jupyter.org/) are a popular tool for interactive computing used by data professionals. Notebooks provide a versatile environment for writing and executing code, creating visualizations, and documenting your work.\n",
    "\n",
    "#### Running Individual Cells\n",
    "\n",
    "Jupyter Notebooks are organized into cells. Each cell can contain code or text. To run an individual code cell:\n",
    "\n",
    "1. Click on the cell you want to run. The cell will be highlighted.\n",
    "2. Press `Shift + Enter` on your keyboard, or click the \"Run\" button in the toolbar at the top. The code in the cell will execute, and any output (such as printed text or graphs) will be displayed immediately below the cell.\n",
    "3. You can run cells in any order, making it easy to experiment and iterate with your code. Note that the notebook here expects cells to be executed in order to produce the intended results.\n",
    "\n",
    "#### Running All Cells in Sequence\n",
    "\n",
    "To run all cells in the notebook in sequence:\n",
    "\n",
    "1. Go to the \"Cell\" menu at the top.\n",
    "2. Select \"Run All.\" This will execute all the cells in the notebook from top to bottom.\n",
    "3. Running all cells is useful when you want to ensure that your notebook runs correctly from start to finish.\n",
    "\n",
    "#### Downloading a Jupyter Notebook\n",
    "\n",
    "When you want to save a local copy of the notebook:\n",
    "\n",
    "1. Go to the \"File\" menu.\n",
    "2. Select \"Download\" - this will save your notebook in the native Jupyter Notebook format (**.ipynb**). and the notebook will be downloaded to your computer.\n"
   ]
  },
  {
   "cell_type": "code",
   "execution_count": null,
   "id": "d7524a8b",
   "metadata": {},
   "outputs": [],
   "source": [
    "# edit and execute this cell to choose a latitude and longitude (decimal degrees) for your computation\n",
    "latitude = 65.1\n",
    "longitude = -146.6"
   ]
  },
  {
   "cell_type": "code",
   "execution_count": null,
   "id": "68deef15-1928-49dd-8a95-496fd54b90a0",
   "metadata": {},
   "outputs": [],
   "source": [
    "# this cell helps run Python code in your browser\n",
    "import micropip\n",
    "await micropip.install('pyodide-http')\n",
    "import pyodide_http\n",
    "pyodide_http.patch_all()"
   ]
  },
  {
   "cell_type": "code",
   "execution_count": null,
   "id": "411eb9b9-972c-47b0-a64b-b04e7e1d3274",
   "metadata": {},
   "outputs": [],
   "source": [
    "# this cell uses the SNAP Data API to fetch a freezing index table\n",
    "# results include different climate models\n",
    "import pandas as pd\n",
    "df = pd.read_csv(f\"https://earthmaps.io/degree_days/freezing_index/{latitude}/{longitude}?format=csv\", header=3)\n",
    "df"
   ]
  },
  {
   "cell_type": "code",
   "execution_count": null,
   "id": "b9541864",
   "metadata": {},
   "outputs": [],
   "source": [
    "# this cell defines a function to compute a design freezing index\n",
    "def compute_and_display_design_index(start_year, end_year, n_coldest_years):\n",
    "    df_slice = df[(df[\"year\"] >= start_year) & (df[\"year\"] < end_year)]\n",
    "    design_index = round(df_slice.sort_values(\"dd\", ascending=False).iloc[0:n_coldest_years][\"dd\"].mean())\n",
    "    return design_index"
   ]
  },
  {
   "cell_type": "code",
   "execution_count": null,
   "id": "a068e0d3",
   "metadata": {},
   "outputs": [],
   "source": [
    "# this cell enables the use of interactive sliders to control the inputs for computation\n",
    "await micropip.install(\"ipywidgets\")\n",
    "import ipywidgets as widgets\n",
    "from IPython.display import display\n",
    "\n",
    "start_year_slider = widgets.IntSlider(\n",
    "    value=2030, min=2018, max=2098, step=1, description=\"Start Year:\"\n",
    ")\n",
    "end_year_slider = widgets.IntSlider(\n",
    "    value=2060, min=2019, max=2099, step=1, description=\"End Year:\"\n",
    ")\n",
    "n_coldest_years_slider = widgets.IntSlider(\n",
    "    value=3, min=1, max=10, step=1, description=\"Number of Coldest Years:\",\n",
    "    style={\"description_width\": \"initial\"}\n",
    ")\n",
    "# create an output widget for dynamic displaying of result\n",
    "output = widgets.Output()\n",
    "\n",
    "# function to handle widget changes\n",
    "def handle_slider_change(change):\n",
    "    with output:\n",
    "        output.clear_output()\n",
    "\n",
    "        if (\n",
    "            end_year_slider.value - start_year_slider.value\n",
    "            < n_coldest_years_slider.value\n",
    "        ):\n",
    "            start_year_slider.value = (\n",
    "                end_year_slider.value - n_coldest_years_slider.value\n",
    "            )\n",
    "            output.clear_output()\n",
    "        result = compute_and_display_design_index(\n",
    "            start_year_slider.value, end_year_slider.value, n_coldest_years_slider.value\n",
    "        )\n",
    "        print(f\"Design Freezing Index: {result} °F•days\")\n",
    "\n",
    "# attach the change handler to the sliders\n",
    "start_year_slider.observe(handle_slider_change, names=\"value\")\n",
    "end_year_slider.observe(handle_slider_change, names=\"value\")\n",
    "n_coldest_years_slider.observe(handle_slider_change, names=\"value\")\n",
    "\n",
    "handle_slider_change(None)\n",
    "\n",
    "# display the widgets with the title and initial result\n",
    "display(start_year_slider, end_year_slider, n_coldest_years_slider, output)\n",
    "initial_result = compute_and_display_design_index(\n",
    "    start_year_slider.value, end_year_slider.value, n_coldest_years_slider.value\n",
    ")"
   ]
  },
  {
   "cell_type": "code",
   "execution_count": null,
   "id": "462cf368",
   "metadata": {},
   "outputs": [],
   "source": []
  }
 ],
 "metadata": {
  "kernelspec": {
   "display_name": "Python 3 (ipykernel)",
   "language": "python",
   "name": "python3"
  },
  "language_info": {
   "codemirror_mode": {
    "name": "ipython",
    "version": 3
   },
   "file_extension": ".py",
   "mimetype": "text/x-python",
   "name": "python",
   "nbconvert_exporter": "python",
   "pygments_lexer": "ipython3",
   "version": "3.10.14"
  }
 },
 "nbformat": 4,
 "nbformat_minor": 5
}
