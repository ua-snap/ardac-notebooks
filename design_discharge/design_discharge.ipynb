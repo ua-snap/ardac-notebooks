{
 "cells": [
  {
   "cell_type": "code",
   "execution_count": 1,
   "id": "232c31bc",
   "metadata": {
    "scrolled": true
   },
   "outputs": [],
   "source": [
    "import pandas as pd\n",
    "import ipywidgets as widgets\n",
    "from IPython.display import display"
   ]
  },
  {
   "cell_type": "code",
   "execution_count": 2,
   "id": "4d23e14a",
   "metadata": {
    "scrolled": true
   },
   "outputs": [],
   "source": [
    "precip_df = pd.read_csv(\"http://127.0.0.1:5000/proj_precip/point/65.028/-146.1627?format=csv\", header=9)"
   ]
  },
  {
   "cell_type": "code",
   "execution_count": 3,
   "id": "a255af8b",
   "metadata": {
    "scrolled": true
   },
   "outputs": [],
   "source": [
    "duration_hrs = {\n",
    "    \"60m\": 1,\n",
    "    \"2h\": 2,\n",
    "    \"3h\": 3,\n",
    "    \"6h\": 6,\n",
    "    \"12h\": 12,\n",
    "    \"24h\": 24,\n",
    "    \"2d\": 48,\n",
    "    \"3d\": 72,\n",
    "    \"4d\": 96,\n",
    "    \"7d\": 168,\n",
    "    \"10d\": 240,\n",
    "    \"20d\": 480,\n",
    "    \"30d\": 720,\n",
    "    \"45d\": 1080,\n",
    "    \"60d\": 1440,\n",
    "}"
   ]
  },
  {
   "cell_type": "code",
   "execution_count": 4,
   "id": "2b93c2c2",
   "metadata": {
    "scrolled": true
   },
   "outputs": [],
   "source": [
    "def mm_to_inches(df, columns_to_convert):\n",
    "    \"\"\"\n",
    "    Convert precipitation amounts from millimeters (mm) to inches and replace the original columns in a DataFrame.\n",
    "\n",
    "    Args:\n",
    "        df (pd.DataFrame): DataFrame containing the precipitation columns.\n",
    "        columns_to_convert (list): column names to convert from mm to inches.\n",
    "\n",
    "    Returns:\n",
    "        pd.DataFrame: DataFrame with converted columns.\n",
    "    \"\"\"\n",
    "    for col in columns_to_convert:\n",
    "        df[col] = round(df[col] * 0.0393701, 3)  # 1 mm = 0.0393701 inches\n",
    "    \n",
    "    return df"
   ]
  },
  {
   "cell_type": "code",
   "execution_count": 5,
   "id": "53ced026",
   "metadata": {
    "scrolled": true
   },
   "outputs": [],
   "source": [
    "def inches_to_inches_per_hour_intensity(df, columns_to_convert, tc):\n",
    "    \"\"\"\n",
    "    Normalize precipitation amounts to inches per hour based on the duration.\n",
    "    Args:\n",
    "        df (pd.DataFrame): DataFrame containing the precipitation columns.\n",
    "        columns_to_convert (list): columns to convert from inches to inches/hour.\n",
    "        tc (str): Time of concentration, effectively this is the \"duration\"\n",
    "\n",
    "    Returns:\n",
    "        pd.DataFrame: DataFrame with converted columns.\n",
    "    \"\"\"\n",
    "    for col in columns_to_convert:\n",
    "        df[col] = round(df[col] / duration_hrs[tc], 3)\n",
    "    \n",
    "    return df"
   ]
  },
  {
   "cell_type": "code",
   "execution_count": 8,
   "id": "08e4ecd1",
   "metadata": {
    "scrolled": true
   },
   "outputs": [
    {
     "data": {
      "application/vnd.jupyter.widget-view+json": {
       "model_id": "6a9bf115c2a94490ae576eded3435bc0",
       "version_major": 2,
       "version_minor": 0
      },
      "text/plain": [
       "Dropdown(description='Return Interval (years):', index=5, options=(2, 5, 10, 25, 50, 100, 200, 500, 1000), sty…"
      ]
     },
     "metadata": {},
     "output_type": "display_data"
    },
    {
     "data": {
      "application/vnd.jupyter.widget-view+json": {
       "model_id": "8ccc8b1bb60e41258775db85fa46ab59",
       "version_major": 2,
       "version_minor": 0
      },
      "text/plain": [
       "Dropdown(description='Time of Concentration (duration)', index=5, options=('60m', '2h', '3h', '6h', '12h', '24…"
      ]
     },
     "metadata": {},
     "output_type": "display_data"
    },
    {
     "data": {
      "application/vnd.jupyter.widget-view+json": {
       "model_id": "d9ff5be54d554136b8e476d9d703b739",
       "version_major": 2,
       "version_minor": 0
      },
      "text/plain": [
       "FloatSlider(value=100.0, description='Drainage Area (acres):', max=1000.0, min=1.0, step=1.0, style=SliderStyl…"
      ]
     },
     "metadata": {},
     "output_type": "display_data"
    },
    {
     "data": {
      "application/vnd.jupyter.widget-view+json": {
       "model_id": "93d46ef025da42c7948460e06afa5f5f",
       "version_major": 2,
       "version_minor": 0
      },
      "text/plain": [
       "FloatSlider(value=0.3, description='Runoff Coefficient (C):', max=1.0, min=0.01, step=0.01, style=SliderStyle(…"
      ]
     },
     "metadata": {},
     "output_type": "display_data"
    },
    {
     "data": {
      "application/vnd.jupyter.widget-view+json": {
       "model_id": "7f096482f775426a8bc10b1bf87b1f81",
       "version_major": 2,
       "version_minor": 0
      },
      "text/plain": [
       "Output(layout=Layout(height='350px'))"
      ]
     },
     "metadata": {},
     "output_type": "display_data"
    }
   ],
   "source": [
    "# define the input widgets\n",
    "return_interval_dropdown = widgets.Dropdown(\n",
    "    options=[2, 5, 10, 25, 50, 100, 200, 500, 1000],\n",
    "    value=100,\n",
    "    description=\"Return Interval (years):\",\n",
    "    style={\"description_width\": \"initial\"}\n",
    ")\n",
    "\n",
    "# dropdown widget for selecting time of concentration (tc)\n",
    "duration_hrs = {\n",
    "    \"60m\": 1,\n",
    "    \"2h\": 2,\n",
    "    \"3h\": 3,\n",
    "    \"6h\": 6,\n",
    "    \"12h\": 12,\n",
    "    \"24h\": 24,\n",
    "    \"2d\": 48,\n",
    "    \"3d\": 72,\n",
    "    \"4d\": 96,\n",
    "    \"7d\": 168,\n",
    "    \"10d\": 240,\n",
    "    \"20d\": 480,\n",
    "    \"30d\": 720,\n",
    "    \"45d\": 1080,\n",
    "    \"60d\": 1440,\n",
    "}\n",
    "tc_dropdown = widgets.Dropdown(\n",
    "    options=list(duration_hrs.keys()),\n",
    "    value=\"24h\",\n",
    "    description=\"Time of Concentration (duration)\",\n",
    "    style={\"description_width\": \"initial\"}\n",
    ")\n",
    "\n",
    "drainage_area_acres_slider = widgets.FloatSlider(\n",
    "    value=100.0, min=1.0, max=1000.0, step=1.0, description=\"Drainage Area (acres):\",\n",
    "    style={\"description_width\": \"initial\"}\n",
    ")\n",
    "c_runoff_coeff_slider = widgets.FloatSlider(\n",
    "    value=0.3, min=0.01, max=1.0, step=0.01, description=\"Runoff Coefficient (C):\",\n",
    "    style={\"description_width\": \"initial\"}\n",
    ")\n",
    "\n",
    "# output widget for displaying the result\n",
    "output = widgets.Output()\n",
    "output.layout.height = \"350px\"\n",
    "\n",
    "df = precip_df.copy()\n",
    "\n",
    "# define the function to compute and display the result\n",
    "def update_result(change):\n",
    "    with output:\n",
    "        output.clear_output()\n",
    "        \n",
    "        selected_tc = tc_dropdown.value\n",
    "        precip = df[(df.return_interval == return_interval_dropdown.value) & (df.duration == selected_tc)].copy()\n",
    "        precip = mm_to_inches(precip, [\"pf\", \"pf_lower\", \"pf_upper\"])\n",
    "        precip = inches_to_inches_per_hour_intensity(precip, [\"pf\", \"pf_lower\", \"pf_upper\"], selected_tc)\n",
    "        precip[f\"Design Q{return_interval_dropdown.value} (cfs)\"] = c_runoff_coeff_slider.value * precip[\"pf\"] * drainage_area_acres_slider.value\n",
    "        result_df = precip.set_index(\"era\").sort_index()[[\"model\", f\"Design Q{return_interval_dropdown.value} (cfs)\"]]\n",
    "        \n",
    "        # Display the resulting DataFrame\n",
    "        display(result_df)\n",
    "\n",
    "# attach change handler to the widgets\n",
    "return_interval_dropdown.observe(update_result, names=\"value\")\n",
    "tc_dropdown.observe(update_result, names=\"value\")\n",
    "drainage_area_acres_slider.observe(update_result, names=\"value\")\n",
    "c_runoff_coeff_slider.observe(update_result, names=\"value\")\n",
    "\n",
    "# display the input widgets and output\n",
    "display(return_interval_dropdown, tc_dropdown, drainage_area_acres_slider, c_runoff_coeff_slider)\n",
    "display(output)\n",
    "\n",
    "# display the initial result\n",
    "update_result(None)\n"
   ]
  },
  {
   "cell_type": "code",
   "execution_count": null,
   "id": "5f0c6d69",
   "metadata": {},
   "outputs": [],
   "source": []
  }
 ],
 "metadata": {
  "kernelspec": {
   "display_name": "Python 3 (ipykernel)",
   "language": "python",
   "name": "python3"
  },
  "language_info": {
   "codemirror_mode": {
    "name": "ipython",
    "version": 3
   },
   "file_extension": ".py",
   "mimetype": "text/x-python",
   "name": "python",
   "nbconvert_exporter": "python",
   "pygments_lexer": "ipython3",
   "version": "3.10.6"
  }
 },
 "nbformat": 4,
 "nbformat_minor": 5
}
