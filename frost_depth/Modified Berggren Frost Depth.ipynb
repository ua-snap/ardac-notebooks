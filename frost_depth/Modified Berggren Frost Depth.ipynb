{
 "cells": [
  {
   "cell_type": "markdown",
   "metadata": {},
   "source": [
    "## Modified Berggren Frost Depth\n",
    "### Background\n",
    "\n",
    "From Bianchini and Gonzalez (2012)<sup>[[6]](#6)</sup>:\n",
    "\n",
    "> \"The design of pavement structures in cold climates must account for the changes in soil properties due to the influence of freezing and thawing cycles. The calculation of frost depth is a fundamental step during the design and evaluation of pavement structures by the U.S. Department of Defense (DoD). The DoD uses the modified Berggren (ModBerg) equation to compute the frost penetration depth.\"\n",
    "> \n",
    "The functions provided here compute the ModBerg frost depth in the same fashion as demonstrated in the The Unified Facilities Criteria (UFC) 3-130-06<sup>[[5]](#5)</sup>. Note that other tools (in particular the Pavement-Transportation Computer Assisted Structural Engineering (PCASE)) offer numerical solutions to the ModBerg equation and thus predict different values than the solutions described in the UFC and presented here. See Bianchini and Gonzalez (2012)<sup>[[6]](#6)</sup> for a discussion of those differences.\n",
    "\n",
    "### Assumptions\n",
    "\n",
    "- Frost depth is computed for a single layer of homogenous isotropic soil.\n",
    "- Heat flow is one-dimensional with the entire soil mass at its mean annual temperature prior to the start of the freezing season. The surface temperature changes suddenly as a step function from the mean annual temperature to a temperature v<sub>s</sub> degrees below freezing and remains at this new temperature throughout the entire freezing season.\n",
    "- The initial ground temperature is assumed to uniformly equal the mean annual air temperature. The upper boundary condition is represented by the surface freezing index.\n",
    "- The coefficient λ considers the effect of the temperature changes in the soil mass and is a function of the fusion parameter μ and thermal ratio α. Traditionally, λ is found \"manually\" by using values of μ and α to consult a chart such as this one from Aldrich and Paynter (1966)<sup>[[3]](#3)</sup>:\n",
    "\n",
    " <img src=\"static/correction_coeff.png\" height=\"400\">\n",
    "\n",
    "Here λ is found using equation _2-33_ from Aldrich (1953)<sup>[[2]](#2)</sup> implemented like so:\n",
    "\n",
    "```python\n",
    "def compute_lambda_coeff(mu, thermal_ratio):\n",
    "    \"\"\"Compute the lambda coeffcient (dimensionless).\n",
    "    Args:\n",
    "        mu: the fusion parameter (dimensionless)\n",
    "        thermal_ratio: thermal ratio (dimensionless)\n",
    "    Returns\n",
    "        lc: the lambda coeffcient value (dimensionless).\n",
    "    \"\"\"\n",
    "    lc = 1.0 / (np.sqrt(1 + (mu * (thermal_ratio + 0.5))))\n",
    "    return round(lc, 2)\n",
    "```\n",
    "\n",
    "This method removes manual consultation of the above figure and should produce coefficients suitable for high latitudes (where the thermal ratio is low), though may overestimate frost depths for more temperate climates.\n",
    "\n",
    "### User Inputs\n",
    "\n",
    "- Soil Factors\n",
    "  - Thermal Conductivity (BTU/hr • ft • °F)\n",
    "  - Dry Density (lbs per cubic foot)\n",
    "  - Gravimetric Water Content (%)\n",
    "- Climate Factors\n",
    "  - Climate Model for Projected Mean Annual Temperature\n",
    "  - Emissions Scenario for Projected Mean Annual Temperature\n",
    "  - Climate Model for Projected Air Freezing Index\n",
    "  - n-factor to Convert Air Freezing Index to Surface Freezing Index\n",
    "  - Duration of the Freezing Season (days)\n",
    "  - Start and End Years (period over which to average mean annual temperature and freezing index projections)\n",
    "\n",
    "#### References\n",
    "\n",
    "<a id=\"1\">[1]</a> W. P. Berggren, “Prediction of temperature-distribution in frozen soils,” Trans. AGU, vol. 24, no. 3, p. 71, 1943, doi: 10.1029/TR024i003p00071.\n",
    "\n",
    "<a id=\"2\">[2]</a> H. P. Aldrich and H. M. Paynter, “Analytical Studies of Freezing and Thawing of Soils,” Arctic Construction and Frost Effects Laboratory, Corps of Engineers, U.S. Army, Boston, MA, First Interim Technical Report 42, Jun. 1953.\n",
    "\n",
    "<a id=\"3\">[3]</a> H. P. Aldrich and H. M. Paynter, “Depth of Frost Penetration in Non-Uniform Soil,” Conducted for CORPS OF ENGINEERS, U. S. ARMY by U.S. ARMY MATERIEL COMMAND COLD REGIONS RESEARCH & ENGINEERING LABORATORY, Hanover, New Hampshire, Special Report 104, Oct. 1966.\n",
    "\n",
    "<a id=\"4\">[4]</a> “ARCTIC AND SUBARCTIC CONSTRUCTION CALCULATION METHODS FOR DETERMINATION OF DEPTHS OF FREEZE AND THAW IN SOILS,” Joint Departments of the Army and Air Force, USA, Technical Manual Tm 5-852-6 / AFR 88-19, Volume 6, Jan. 1988.\n",
    "\n",
    "<a id=\"5\">[5]</a> “Calculation Methods for Determination of Depth of Freeze and Thaw in Soil: Arctic and Subarctic Construction,” U.S. Army Corps of Engineers, United Facilities Criteria UFC 3-130-06, Jan. 2004. [Online]. Available: https://www.wbdg.org/FFC/DOD/UFC/INACTIVE/ufc_3_130_06_2004.pdf\n",
    "\n",
    "<a id=\"6\">[6]</a> A. Bianchini and C. R. Gonzalez, “Pavement-Transportation Computer Assisted Structural Engineering (PCASE) Implementation of the Modified Berggren (ModBerg) Equation for Computing the Frost Penetration Depth within Pavement Structures,” Geotechnical and Structures Laboratory U.S. Army Engineer Research and Development Center, Vicksburg, MS, Final ERDC/GSL TR-12-15, Apr. 2012. doi: 10.21236/ADA559915.\n",
    "\n",
    "<a id=\"7\">[7]</a> H. P. Aldrich, “Frost Penetration Below Highway And Airfield Pavements,” p. 26.\n"
   ]
  },
  {
   "cell_type": "code",
   "execution_count": 1,
   "metadata": {},
   "outputs": [],
   "source": [
    "from ipywidgets import widgets, interact, Layout\n",
    "from modberg import compute_modified_bergrenn"
   ]
  },
  {
   "cell_type": "code",
   "execution_count": 2,
   "metadata": {},
   "outputs": [],
   "source": [
    "# climate futures for freezing index projections (all RCP 8.5)\n",
    "fi_models = [\"GFDL-CM3\", \"NCAR-CCSM4\"]\n",
    "\n",
    "# climate futures for mean annual temperature projections\n",
    "mat_models = [\"GFDL-CM3\", \"NCAR-CCSM4\", \"MRI-CGCM3\", \"GISS-E2-R\", \"IPSL-CM5A-LR\"]\n",
    "mat_scenarios = [\"rcp45\", \"rcp60\", \"rcp85\"]"
   ]
  },
  {
   "cell_type": "code",
   "execution_count": 3,
   "metadata": {},
   "outputs": [
    {
     "data": {
      "application/vnd.jupyter.widget-view+json": {
       "model_id": "ca7c1ed746c8446884617062214284f6",
       "version_major": 2,
       "version_minor": 0
      },
      "text/plain": [
       "interactive(children=(IntSlider(value=100, description='Soil Dry Density (lbs per cubic foot):', layout=Layout…"
      ]
     },
     "metadata": {},
     "output_type": "display_data"
    },
    {
     "name": "stdout",
     "output_type": "stream",
     "text": [
      "Computed Modified Bergrenn Frost Depth: 5.7 feet\n"
     ]
    }
   ],
   "source": [
    "# location inputs\n",
    "lat_box = widgets.BoundedFloatText(value=65.0, min=51.3, max=71.3, step=0.1, description=\"Latitude\", continuous_update=False)\n",
    "lon_box = widgets.BoundedFloatText(value=-147.0, min=-179.1, max=-130.0, step=0.1, description=\"Longitude\", continuous_update=False)\n",
    "\n",
    "# climate inputs\n",
    "d_slider = widgets.IntSlider(value=200, min=1, max=365, step=1, description=\"Freezing Duration (days):\", layout=Layout(width='500px'), style= {'description_width': 'initial'})\n",
    "n_slider = widgets.FloatSlider(value=0.75, min=0.10, max=1.00, step=0.1, description=\"Surface n-factor for Freezing Index:\", layout=Layout(width='500px'), style= {'description_width': 'initial'})\n",
    "start_slider = widgets.IntSlider(value=2030, min=2007, max=2100, description=\"Start Year:\", layout=Layout(width='500px'))\n",
    "stop_slider = widgets.IntSlider(value=2040, min=2007, max=2100, description=\"End Year:\", layout=Layout(width='500px'))\n",
    "\n",
    "# soil property inputs\n",
    "dry_ro_slider = widgets.IntSlider(value=100, min=20, max=135, step=1, description=\"Soil Dry Density (lbs per cubic foot):\", layout=Layout(width='500px'), style= {'description_width': 'initial'})\n",
    "wc_pct_slider = widgets.IntSlider(value=15, min=1, max=50, step=1, description=\"Soil Gravimetric Water Content (%):\", layout=Layout(width='500px'), style= {'description_width': 'initial'})\n",
    "k_avg_slider = widgets.FloatSlider(value=0.78, min=0.1, max=2, step=0.1, description=\"Soil Thermal Conductivity (BTU/hr • ft • °F):\", layout=Layout(width='500px'), style= {'description_width': 'initial'})\n",
    "\n",
    "# climate future dropdowns\n",
    "fi_model_dropdown = widgets.Dropdown(options=fi_models, description=\"Freezing Index Model (RCP 8.5 scenario only):\", layout=Layout(width='500px'), style= {'description_width': 'initial'})\n",
    "mat_model_dropdown = widgets.Dropdown(options=mat_models, description=\"Mean Annual Temperature Model:\", layout=Layout(width='500px'), style= {'description_width': 'initial'})\n",
    "mat_scenario_dropdown = widgets.Dropdown(options=mat_scenarios, description=\"Mean Annual Temperature Scenario:\", layout=Layout(width='500px'), style={'description_width': 'initial'})\n",
    "\n",
    "frost_depth = interact(compute_modified_bergrenn, dry_ro=dry_ro_slider, wc_pct=wc_pct_slider, d=d_slider, n=n_slider, k_avg=k_avg_slider, lat=lat_box, lon=lon_box, model=mat_model_dropdown, fi_model=fi_model_dropdown, scenario=mat_scenario_dropdown, year_start=start_slider, year_end=stop_slider);\n",
    "\n",
    "print(f\"Computed Modified Bergrenn Frost Depth: {frost_depth.widget.result} feet\")"
   ]
  },
  {
   "cell_type": "code",
   "execution_count": null,
   "metadata": {},
   "outputs": [],
   "source": []
  }
 ],
 "metadata": {
  "kernelspec": {
   "display_name": "scratch",
   "language": "python",
   "name": "python3"
  },
  "language_info": {
   "codemirror_mode": {
    "name": "ipython",
    "version": 3
   },
   "file_extension": ".py",
   "mimetype": "text/x-python",
   "name": "python",
   "nbconvert_exporter": "python",
   "pygments_lexer": "ipython3",
   "version": "3.11.4"
  },
  "orig_nbformat": 4
 },
 "nbformat": 4,
 "nbformat_minor": 2
}
